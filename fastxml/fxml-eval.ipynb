{
  "nbformat": 4,
  "nbformat_minor": 0,
  "metadata": {
    "colab": {
      "name": "fxml-eval.ipynb",
      "provenance": [],
      "collapsed_sections": []
    },
    "kernelspec": {
      "name": "python3",
      "display_name": "Python 3"
    }
  },
  "cells": [
    {
      "cell_type": "code",
      "metadata": {
        "colab": {
          "base_uri": "https://localhost:8080/"
        },
        "id": "lsMTOXsaDE9W",
        "outputId": "ff52c654-0f72-40ee-d3a2-1311128e342d"
      },
      "source": [
        "!unzip output.txt.zip"
      ],
      "execution_count": 1,
      "outputs": [
        {
          "output_type": "stream",
          "text": [
            "Archive:  output.txt.zip\n",
            "  inflating: output.txt              \n"
          ],
          "name": "stdout"
        }
      ]
    },
    {
      "cell_type": "code",
      "metadata": {
        "id": "083O3HbJrHAw"
      },
      "source": [
        "import json\n",
        "from json import JSONDecodeError\n",
        "\n",
        "import numpy as np\n",
        "blank = set()\n",
        "blank.add('\\n')\n",
        "\n",
        "y_test = []\n",
        "y_pred = []\n",
        "with open('output.txt') as fp:\n",
        "  for line in fp.readlines():\n",
        "    j = json.loads(line.rstrip())\n",
        "    test_labl = j['tags'][0]\n",
        "    preds = j['predict']\n",
        "\n",
        "    pLabLs = []\n",
        "    pLogLs = []\n",
        "\n",
        "    for labl,logit in preds:\n",
        "      pLabLs.append(labl)\n",
        "      pLogLs.append(logit)\n",
        "    \n",
        "    pProbs = np.exp(pLogLs)/sum(np.exp(pLogLs))\n",
        "\n",
        "    pred_labl = pLabLs[np.argmax(pProbs)]\n",
        "\n",
        "    y_test.append(test_labl)\n",
        "    y_pred.append(pred_labl)\n",
        "\n"
      ],
      "execution_count": 2,
      "outputs": []
    },
    {
      "cell_type": "code",
      "metadata": {
        "colab": {
          "base_uri": "https://localhost:8080/"
        },
        "id": "CWjPpJSAv87c",
        "outputId": "ed8b24bf-bbee-4aa0-d192-6779c5a10ee1"
      },
      "source": [
        "from sklearn.metrics import accuracy_score\n",
        "from sklearn.metrics import balanced_accuracy_score\n",
        "\n",
        "print('accuracy: ', accuracy_score(y_test, y_pred))\n",
        "print('balanced accuracy: ', balanced_accuracy_score(y_test, y_pred))"
      ],
      "execution_count": 3,
      "outputs": [
        {
          "output_type": "stream",
          "text": [
            "accuracy:  0.21939328937586078\n",
            "balanced accuracy:  0.16286669578199062\n"
          ],
          "name": "stdout"
        },
        {
          "output_type": "stream",
          "text": [
            "/usr/local/lib/python3.6/dist-packages/sklearn/metrics/_classification.py:1859: UserWarning: y_pred contains classes not in y_true\n",
            "  warnings.warn('y_pred contains classes not in y_true')\n"
          ],
          "name": "stderr"
        }
      ]
    }
  ]
}