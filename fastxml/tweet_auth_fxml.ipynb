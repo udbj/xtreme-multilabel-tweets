{
  "nbformat": 4,
  "nbformat_minor": 0,
  "metadata": {
    "kernelspec": {
      "display_name": "Python 3",
      "language": "python",
      "name": "python3"
    },
    "language_info": {
      "codemirror_mode": {
        "name": "ipython",
        "version": 3
      },
      "file_extension": ".py",
      "mimetype": "text/x-python",
      "name": "python",
      "nbconvert_exporter": "python",
      "pygments_lexer": "ipython3",
      "version": "3.7.9"
    },
    "papermill": {
      "default_parameters": {},
      "duration": 17006.904928,
      "end_time": "2021-02-16T07:45:54.981347",
      "environment_variables": {},
      "exception": null,
      "input_path": "__notebook__.ipynb",
      "output_path": "__notebook__.ipynb",
      "parameters": {},
      "start_time": "2021-02-16T03:02:28.076419",
      "version": "2.2.2"
    },
    "colab": {
      "name": "tweet-auth-fxml.ipynb",
      "provenance": [],
      "collapsed_sections": []
    }
  },
  "cells": [
    {
      "cell_type": "code",
      "metadata": {
        "execution": {
          "iopub.execute_input": "2021-02-16T03:02:34.152978Z",
          "iopub.status.busy": "2021-02-16T03:02:34.152226Z",
          "iopub.status.idle": "2021-02-16T03:03:10.843057Z",
          "shell.execute_reply": "2021-02-16T03:03:10.842353Z"
        },
        "papermill": {
          "duration": 36.705954,
          "end_time": "2021-02-16T03:03:10.843269",
          "exception": false,
          "start_time": "2021-02-16T03:02:34.137315",
          "status": "completed"
        },
        "tags": [],
        "id": "WmTzWxnR635n"
      },
      "source": [
        "!pip install git+https://github.com/Refefer/fastxml.git"
      ],
      "execution_count": null,
      "outputs": []
    },
    {
      "cell_type": "code",
      "metadata": {
        "execution": {
          "iopub.execute_input": "2021-02-16T03:03:10.879826Z",
          "iopub.status.busy": "2021-02-16T03:03:10.879127Z",
          "iopub.status.idle": "2021-02-16T03:03:17.572759Z",
          "shell.execute_reply": "2021-02-16T03:03:17.571671Z"
        },
        "papermill": {
          "duration": 6.716094,
          "end_time": "2021-02-16T03:03:17.572962",
          "exception": false,
          "start_time": "2021-02-16T03:03:10.856868",
          "status": "completed"
        },
        "tags": [],
        "id": "ub_sTXey635q"
      },
      "source": [
        "!pip install transformers"
      ],
      "execution_count": null,
      "outputs": []
    },
    {
      "cell_type": "code",
      "metadata": {
        "execution": {
          "iopub.execute_input": "2021-02-16T03:03:17.609773Z",
          "iopub.status.busy": "2021-02-16T03:03:17.609071Z",
          "iopub.status.idle": "2021-02-16T03:03:18.805357Z",
          "shell.execute_reply": "2021-02-16T03:03:18.804773Z"
        },
        "papermill": {
          "duration": 1.217175,
          "end_time": "2021-02-16T03:03:18.805504",
          "exception": false,
          "start_time": "2021-02-16T03:03:17.588329",
          "status": "completed"
        },
        "tags": [],
        "id": "ZZl4CYV7635q"
      },
      "source": [
        "import pandas as pd\n",
        "\n",
        "train_data = pd.read_csv('/kaggle/input/authattrdata/train_tweets.txt', sep = '\\t', header = None)"
      ],
      "execution_count": null,
      "outputs": []
    },
    {
      "cell_type": "code",
      "metadata": {
        "execution": {
          "iopub.execute_input": "2021-02-16T03:03:18.849679Z",
          "iopub.status.busy": "2021-02-16T03:03:18.848955Z",
          "iopub.status.idle": "2021-02-16T03:03:18.853944Z",
          "shell.execute_reply": "2021-02-16T03:03:18.853196Z"
        },
        "papermill": {
          "duration": 0.032887,
          "end_time": "2021-02-16T03:03:18.854101",
          "exception": false,
          "start_time": "2021-02-16T03:03:18.821214",
          "status": "completed"
        },
        "tags": [],
        "id": "fFn4OD2G635r"
      },
      "source": [
        "y = train_data[0]\n",
        "tweets = train_data[1]"
      ],
      "execution_count": null,
      "outputs": []
    },
    {
      "cell_type": "code",
      "metadata": {
        "execution": {
          "iopub.execute_input": "2021-02-16T03:03:19.026941Z",
          "iopub.status.busy": "2021-02-16T03:03:19.022835Z",
          "iopub.status.idle": "2021-02-16T03:03:19.221710Z",
          "shell.execute_reply": "2021-02-16T03:03:19.220846Z"
        },
        "papermill": {
          "duration": 0.351976,
          "end_time": "2021-02-16T03:03:19.221899",
          "exception": false,
          "start_time": "2021-02-16T03:03:18.869923",
          "status": "completed"
        },
        "tags": [],
        "id": "9VYwqblG635r"
      },
      "source": [
        "from collections import Counter\n",
        "import matplotlib.pyplot as plt\n",
        "\n",
        "print('labels:', len(set(y)))\n",
        "print('samples:', len(tweets))\n",
        "\n",
        "distt = Counter(y)\n",
        "counts = []\n",
        "\n",
        "for key, val in distt.most_common():\n",
        "    counts.append(val)\n",
        "\n",
        "plt.plot(counts)"
      ],
      "execution_count": null,
      "outputs": []
    },
    {
      "cell_type": "code",
      "metadata": {
        "execution": {
          "iopub.execute_input": "2021-02-16T03:03:19.265072Z",
          "iopub.status.busy": "2021-02-16T03:03:19.264017Z",
          "iopub.status.idle": "2021-02-16T03:06:24.411537Z",
          "shell.execute_reply": "2021-02-16T03:06:24.410794Z"
        },
        "papermill": {
          "duration": 185.17221,
          "end_time": "2021-02-16T03:06:24.411714",
          "exception": false,
          "start_time": "2021-02-16T03:03:19.239504",
          "status": "completed"
        },
        "tags": [],
        "id": "cojjbjEv635r"
      },
      "source": [
        "from transformers import BertTokenizer\n",
        "\n",
        "tokenizer = BertTokenizer.from_pretrained(\"bert-base-cased\", do_lower_case = False)\n",
        "\n",
        "n_tweets = []\n",
        "for tweet in tweets:\n",
        "    nTweet = tokenizer.encode(tweet)\n",
        "    n_tweets.append(' '.join([str(x) for x in nTweet]))"
      ],
      "execution_count": null,
      "outputs": []
    },
    {
      "cell_type": "code",
      "metadata": {
        "execution": {
          "iopub.execute_input": "2021-02-16T03:06:24.462855Z",
          "iopub.status.busy": "2021-02-16T03:06:24.457097Z",
          "iopub.status.idle": "2021-02-16T03:06:26.739222Z",
          "shell.execute_reply": "2021-02-16T03:06:26.738656Z"
        },
        "papermill": {
          "duration": 2.308365,
          "end_time": "2021-02-16T03:06:26.739395",
          "exception": false,
          "start_time": "2021-02-16T03:06:24.431030",
          "status": "completed"
        },
        "tags": [],
        "id": "tKQVsDio635s"
      },
      "source": [
        "import json\n",
        "\n",
        "X = []\n",
        "for labl, tweet in zip(y, n_tweets):\n",
        "    x = {\"title\": tweet,\n",
        "       \"tags\": [str(labl)]}\n",
        "    X.append(json.dumps(x))"
      ],
      "execution_count": null,
      "outputs": []
    },
    {
      "cell_type": "code",
      "metadata": {
        "execution": {
          "iopub.execute_input": "2021-02-16T03:06:26.781052Z",
          "iopub.status.busy": "2021-02-16T03:06:26.780176Z",
          "iopub.status.idle": "2021-02-16T03:06:28.139203Z",
          "shell.execute_reply": "2021-02-16T03:06:28.138488Z"
        },
        "papermill": {
          "duration": 1.382006,
          "end_time": "2021-02-16T03:06:28.139354",
          "exception": false,
          "start_time": "2021-02-16T03:06:26.757348",
          "status": "completed"
        },
        "tags": [],
        "id": "vcanY-xm635s"
      },
      "source": [
        "from sklearn.model_selection import train_test_split\n",
        "\n",
        "X_train, X_test = train_test_split(X, test_size = 0.25, random_state = 42)"
      ],
      "execution_count": null,
      "outputs": []
    },
    {
      "cell_type": "code",
      "metadata": {
        "execution": {
          "iopub.execute_input": "2021-02-16T03:06:28.182004Z",
          "iopub.status.busy": "2021-02-16T03:06:28.181293Z",
          "iopub.status.idle": "2021-02-16T03:06:28.444600Z",
          "shell.execute_reply": "2021-02-16T03:06:28.444020Z"
        },
        "papermill": {
          "duration": 0.286744,
          "end_time": "2021-02-16T03:06:28.444763",
          "exception": false,
          "start_time": "2021-02-16T03:06:28.158019",
          "status": "completed"
        },
        "tags": [],
        "id": "TG-MQIkg635s"
      },
      "source": [
        "with open('/kaggle/working/fxml_train.json', 'w') as fp:\n",
        "    for line in X_train:\n",
        "        fp.write(line + '\\n')\n",
        "\n",
        "with open('/kaggle/working/fxml_test.json', 'w') as fp:\n",
        "    for line in X_test:\n",
        "        fp.write(line + '\\n')"
      ],
      "execution_count": null,
      "outputs": []
    },
    {
      "cell_type": "code",
      "metadata": {
        "execution": {
          "iopub.execute_input": "2021-02-16T03:06:28.493658Z",
          "iopub.status.busy": "2021-02-16T03:06:28.487056Z",
          "iopub.status.idle": "2021-02-16T07:31:25.582684Z",
          "shell.execute_reply": "2021-02-16T07:31:25.583244Z"
        },
        "papermill": {
          "duration": 15897.120445,
          "end_time": "2021-02-16T07:31:25.583495",
          "exception": false,
          "start_time": "2021-02-16T03:06:28.463050",
          "status": "completed"
        },
        "tags": [],
        "id": "3Z2Tpa4u635s"
      },
      "source": [
        "!python3 \"/kaggle/input/fxmlscript/fxml.py\" \"/kaggle/working/auth.model\" \"/kaggle/working/fxml_train.json\" train --iters 5 --trees 10 --label-weight propensity --alpha 1e-4 --threads 4 --leaf-classifiers"
      ],
      "execution_count": null,
      "outputs": []
    },
    {
      "cell_type": "code",
      "metadata": {
        "execution": {
          "iopub.execute_input": "2021-02-16T07:31:25.637287Z",
          "iopub.status.busy": "2021-02-16T07:31:25.636578Z",
          "iopub.status.idle": "2021-02-16T07:45:48.984206Z",
          "shell.execute_reply": "2021-02-16T07:45:48.984745Z"
        },
        "papermill": {
          "duration": 863.378671,
          "end_time": "2021-02-16T07:45:48.984931",
          "exception": false,
          "start_time": "2021-02-16T07:31:25.606260",
          "status": "completed"
        },
        "tags": [],
        "id": "2WZfhg-o635t"
      },
      "source": [
        "!python3 \"/kaggle/input/fxmlscript/fxml.py\" \"/kaggle/working/auth.model\" \"/kaggle/working/fxml_test.json\" inference"
      ],
      "execution_count": null,
      "outputs": []
    }
  ]
}