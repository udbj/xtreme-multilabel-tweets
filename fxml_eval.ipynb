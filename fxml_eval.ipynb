{
  "nbformat": 4,
  "nbformat_minor": 0,
  "metadata": {
    "colab": {
      "name": "fxml-eval.ipynb",
      "provenance": [],
      "collapsed_sections": []
    },
    "kernelspec": {
      "name": "python3",
      "display_name": "Python 3"
    }
  },
  "cells": [
    {
      "cell_type": "code",
      "metadata": {
        "colab": {
          "base_uri": "https://localhost:8080/"
        },
        "id": "083O3HbJrHAw",
        "outputId": "900ac415-7b85-4301-8934-601964456033"
      },
      "source": [
        "import json\n",
        "from json import JSONDecodeError\n",
        "\n",
        "import numpy as np\n",
        "blank = set()\n",
        "blank.add('\\n')\n",
        "\n",
        "y_test = []\n",
        "y_pred = []\n",
        "with open('tweet-auth-fxml.log') as fp:\n",
        "  for line in fp.readlines():\n",
        "    if line not in blank:\n",
        "      try:\n",
        "        j = json.loads(line.rstrip())\n",
        "        test_labl = j['tags'][0]\n",
        "        preds = j['predict']\n",
        "\n",
        "        pLabLs = []\n",
        "        pLogLs = []\n",
        "\n",
        "        for labl,logit in preds:\n",
        "          pLabLs.append(labl)\n",
        "          pLogLs.append(logit)\n",
        "        \n",
        "        pProbs = np.exp(pLogLs)/sum(np.exp(pLogLs))\n",
        "\n",
        "        pred_labl = pLabLs[np.argmax(pProbs)]\n",
        "\n",
        "        y_test.append(test_labl)\n",
        "        y_pred.append(pred_labl)\n",
        "      except JSONDecodeError:\n",
        "        print('Read Non-JSON line.')\n"
      ],
      "execution_count": 9,
      "outputs": [
        {
          "output_type": "stream",
          "text": [
            "Read Non-JSON line.\n",
            "Read Non-JSON line.\n",
            "Read Non-JSON line.\n",
            "Read Non-JSON line.\n",
            "Read Non-JSON line.\n",
            "Read Non-JSON line.\n",
            "Read Non-JSON line.\n",
            "Read Non-JSON line.\n",
            "Read Non-JSON line.\n",
            "Read Non-JSON line.\n"
          ],
          "name": "stdout"
        }
      ]
    },
    {
      "cell_type": "code",
      "metadata": {
        "colab": {
          "base_uri": "https://localhost:8080/"
        },
        "id": "CWjPpJSAv87c",
        "outputId": "77d66dc1-140d-4545-b62d-c76f6745eea5"
      },
      "source": [
        "from sklearn.metrics import accuracy_score\n",
        "from sklearn.metrics import balanced_accuracy_score\n",
        "\n",
        "print('accuracy: ', accuracy_score(y_test, y_pred))\n",
        "print('balanced accuracy: ', balanced_accuracy_score(y_test, y_pred))"
      ],
      "execution_count": 10,
      "outputs": [
        {
          "output_type": "stream",
          "text": [
            "accuracy:  0.2032967032967033\n",
            "balanced accuracy:  0.2032967032967033\n"
          ],
          "name": "stdout"
        },
        {
          "output_type": "stream",
          "text": [
            "/usr/local/lib/python3.6/dist-packages/sklearn/metrics/_classification.py:1859: UserWarning: y_pred contains classes not in y_true\n",
            "  warnings.warn('y_pred contains classes not in y_true')\n"
          ],
          "name": "stderr"
        }
      ]
    }
  ]
}